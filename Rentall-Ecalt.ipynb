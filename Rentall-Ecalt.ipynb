{
 "cells": [
  {
   "cell_type": "code",
   "execution_count": 2,
   "metadata": {},
   "outputs": [
    {
     "name": "stdout",
     "output_type": "stream",
     "text": [
      "Requirement already satisfied: pyECLAT in c:\\users\\91976\\anaconda3\\lib\\site-packages (1.0.2)\n",
      "Requirement already satisfied: numpy>=1.17.4 in c:\\users\\91976\\anaconda3\\lib\\site-packages (from pyECLAT) (1.18.1)\n",
      "Requirement already satisfied: pandas>=0.25.3 in c:\\users\\91976\\anaconda3\\lib\\site-packages (from pyECLAT) (1.0.1)\n",
      "Requirement already satisfied: tqdm>=4.41.1 in c:\\users\\91976\\anaconda3\\lib\\site-packages (from pyECLAT) (4.42.1)\n",
      "Requirement already satisfied: python-dateutil>=2.6.1 in c:\\users\\91976\\anaconda3\\lib\\site-packages (from pandas>=0.25.3->pyECLAT) (2.8.1)\n",
      "Requirement already satisfied: pytz>=2017.2 in c:\\users\\91976\\anaconda3\\lib\\site-packages (from pandas>=0.25.3->pyECLAT) (2019.3)\n",
      "Requirement already satisfied: six>=1.5 in c:\\users\\91976\\anaconda3\\lib\\site-packages (from python-dateutil>=2.6.1->pandas>=0.25.3->pyECLAT) (1.14.0)\n",
      "Note: you may need to restart the kernel to use updated packages.\n"
     ]
    },
    {
     "name": "stderr",
     "output_type": "stream",
     "text": [
      "WARNING: You are using pip version 21.0.1; however, version 22.1.2 is available.\n",
      "You should consider upgrading via the 'C:\\Users\\91976\\anaconda3\\python.exe -m pip install --upgrade pip' command.\n"
     ]
    }
   ],
   "source": [
    "pip install pyECLAT"
   ]
  },
  {
   "cell_type": "code",
   "execution_count": 3,
   "metadata": {},
   "outputs": [
    {
     "data": {
      "text/html": [
       "<div>\n",
       "<style scoped>\n",
       "    .dataframe tbody tr th:only-of-type {\n",
       "        vertical-align: middle;\n",
       "    }\n",
       "\n",
       "    .dataframe tbody tr th {\n",
       "        vertical-align: top;\n",
       "    }\n",
       "\n",
       "    .dataframe thead th {\n",
       "        text-align: right;\n",
       "    }\n",
       "</style>\n",
       "<table border=\"1\" class=\"dataframe\">\n",
       "  <thead>\n",
       "    <tr style=\"text-align: right;\">\n",
       "      <th></th>\n",
       "      <th>0</th>\n",
       "      <th>1</th>\n",
       "      <th>2</th>\n",
       "      <th>3</th>\n",
       "      <th>4</th>\n",
       "      <th>5</th>\n",
       "      <th>6</th>\n",
       "    </tr>\n",
       "  </thead>\n",
       "  <tbody>\n",
       "    <tr>\n",
       "      <th>0</th>\n",
       "      <td>shrimp</td>\n",
       "      <td>almonds</td>\n",
       "      <td>avocado</td>\n",
       "      <td>vegetables mix</td>\n",
       "      <td>green grapes</td>\n",
       "      <td>whole weat flour</td>\n",
       "      <td>yams</td>\n",
       "    </tr>\n",
       "    <tr>\n",
       "      <th>1</th>\n",
       "      <td>burgers</td>\n",
       "      <td>meatballs</td>\n",
       "      <td>eggs</td>\n",
       "      <td>NaN</td>\n",
       "      <td>NaN</td>\n",
       "      <td>NaN</td>\n",
       "      <td>NaN</td>\n",
       "    </tr>\n",
       "    <tr>\n",
       "      <th>2</th>\n",
       "      <td>chutney</td>\n",
       "      <td>NaN</td>\n",
       "      <td>NaN</td>\n",
       "      <td>NaN</td>\n",
       "      <td>NaN</td>\n",
       "      <td>NaN</td>\n",
       "      <td>NaN</td>\n",
       "    </tr>\n",
       "    <tr>\n",
       "      <th>3</th>\n",
       "      <td>turkey</td>\n",
       "      <td>avocado</td>\n",
       "      <td>NaN</td>\n",
       "      <td>NaN</td>\n",
       "      <td>NaN</td>\n",
       "      <td>NaN</td>\n",
       "      <td>NaN</td>\n",
       "    </tr>\n",
       "    <tr>\n",
       "      <th>4</th>\n",
       "      <td>mineral water</td>\n",
       "      <td>milk</td>\n",
       "      <td>energy bar</td>\n",
       "      <td>whole wheat rice</td>\n",
       "      <td>green tea</td>\n",
       "      <td>NaN</td>\n",
       "      <td>NaN</td>\n",
       "    </tr>\n",
       "    <tr>\n",
       "      <th>...</th>\n",
       "      <td>...</td>\n",
       "      <td>...</td>\n",
       "      <td>...</td>\n",
       "      <td>...</td>\n",
       "      <td>...</td>\n",
       "      <td>...</td>\n",
       "      <td>...</td>\n",
       "    </tr>\n",
       "    <tr>\n",
       "      <th>2996</th>\n",
       "      <td>green tea</td>\n",
       "      <td>NaN</td>\n",
       "      <td>NaN</td>\n",
       "      <td>NaN</td>\n",
       "      <td>NaN</td>\n",
       "      <td>NaN</td>\n",
       "      <td>NaN</td>\n",
       "    </tr>\n",
       "    <tr>\n",
       "      <th>2997</th>\n",
       "      <td>shrimp</td>\n",
       "      <td>cake</td>\n",
       "      <td>NaN</td>\n",
       "      <td>NaN</td>\n",
       "      <td>NaN</td>\n",
       "      <td>NaN</td>\n",
       "      <td>NaN</td>\n",
       "    </tr>\n",
       "    <tr>\n",
       "      <th>2998</th>\n",
       "      <td>ham</td>\n",
       "      <td>ground beef</td>\n",
       "      <td>mineral water</td>\n",
       "      <td>NaN</td>\n",
       "      <td>NaN</td>\n",
       "      <td>NaN</td>\n",
       "      <td>NaN</td>\n",
       "    </tr>\n",
       "    <tr>\n",
       "      <th>2999</th>\n",
       "      <td>burgers</td>\n",
       "      <td>frozen vegetables</td>\n",
       "      <td>whole wheat pasta</td>\n",
       "      <td>mineral water</td>\n",
       "      <td>chocolate</td>\n",
       "      <td>eggs</td>\n",
       "      <td>blueberries</td>\n",
       "    </tr>\n",
       "    <tr>\n",
       "      <th>3000</th>\n",
       "      <td>whole wheat pasta</td>\n",
       "      <td>eggs</td>\n",
       "      <td>cake</td>\n",
       "      <td>french fries</td>\n",
       "      <td>green tea</td>\n",
       "      <td>NaN</td>\n",
       "      <td>NaN</td>\n",
       "    </tr>\n",
       "  </tbody>\n",
       "</table>\n",
       "<p>3001 rows × 7 columns</p>\n",
       "</div>"
      ],
      "text/plain": [
       "                      0                  1                  2  \\\n",
       "0                shrimp            almonds            avocado   \n",
       "1               burgers          meatballs               eggs   \n",
       "2               chutney                NaN                NaN   \n",
       "3                turkey            avocado                NaN   \n",
       "4         mineral water               milk         energy bar   \n",
       "...                 ...                ...                ...   \n",
       "2996          green tea                NaN                NaN   \n",
       "2997             shrimp               cake                NaN   \n",
       "2998                ham        ground beef      mineral water   \n",
       "2999            burgers  frozen vegetables  whole wheat pasta   \n",
       "3000  whole wheat pasta               eggs               cake   \n",
       "\n",
       "                     3             4                 5            6  \n",
       "0       vegetables mix  green grapes  whole weat flour         yams  \n",
       "1                  NaN           NaN               NaN          NaN  \n",
       "2                  NaN           NaN               NaN          NaN  \n",
       "3                  NaN           NaN               NaN          NaN  \n",
       "4     whole wheat rice     green tea               NaN          NaN  \n",
       "...                ...           ...               ...          ...  \n",
       "2996               NaN           NaN               NaN          NaN  \n",
       "2997               NaN           NaN               NaN          NaN  \n",
       "2998               NaN           NaN               NaN          NaN  \n",
       "2999     mineral water     chocolate              eggs  blueberries  \n",
       "3000      french fries     green tea               NaN          NaN  \n",
       "\n",
       "[3001 rows x 7 columns]"
      ]
     },
     "execution_count": 3,
     "metadata": {},
     "output_type": "execute_result"
    }
   ],
   "source": [
    "from pyECLAT import Example1, Example2\n",
    "ex2 = Example2().get()\n",
    "ex2"
   ]
  },
  {
   "cell_type": "code",
   "execution_count": 4,
   "metadata": {},
   "outputs": [
    {
     "name": "stderr",
     "output_type": "stream",
     "text": [
      "100%|███████████████████████████████████████████████████████████████████████████████| 119/119 [00:00<00:00, 220.55it/s]\n",
      "100%|██████████████████████████████████████████████████████████████████████████████| 119/119 [00:00<00:00, 1835.76it/s]\n",
      "100%|██████████████████████████████████████████████████████████████████████████████| 119/119 [00:00<00:00, 2483.87it/s]\n"
     ]
    }
   ],
   "source": [
    "from pyECLAT import ECLAT\n",
    "eclat_instance = ECLAT(ex2, verbose=True)"
   ]
  },
  {
   "cell_type": "code",
   "execution_count": 5,
   "metadata": {},
   "outputs": [
    {
     "name": "stderr",
     "output_type": "stream",
     "text": [
      "1it [00:00,  5.79it/s]"
     ]
    },
    {
     "name": "stdout",
     "output_type": "stream",
     "text": [
      "Combination 1 by 1\n"
     ]
    },
    {
     "name": "stderr",
     "output_type": "stream",
     "text": [
      "32it [00:00, 58.83it/s]\n",
      "17it [00:00, 163.15it/s]"
     ]
    },
    {
     "name": "stdout",
     "output_type": "stream",
     "text": [
      "Combination 2 by 2\n"
     ]
    },
    {
     "name": "stderr",
     "output_type": "stream",
     "text": [
      "496it [00:03, 151.61it/s]\n",
      "28it [00:00, 140.83it/s]"
     ]
    },
    {
     "name": "stdout",
     "output_type": "stream",
     "text": [
      "Combination 3 by 3\n"
     ]
    },
    {
     "name": "stderr",
     "output_type": "stream",
     "text": [
      "4960it [00:37, 132.57it/s]"
     ]
    },
    {
     "name": "stdout",
     "output_type": "stream",
     "text": [
      "{'escalope': 0.07064311896034656, 'whole wheat rice': 0.045318227257580806, 'low fat yogurt': 0.05664778407197601, 'cooking oil': 0.04798400533155615, 'shrimp': 0.0773075641452849, 'avocado': 0.035654781739420195, 'ground beef': 0.09363545484838387, 'eggs': 0.17727424191936023, 'honey': 0.03865378207264245, 'frozen vegetables': 0.09196934355214928, 'whole wheat pasta': 0.03032322559146951, 'fresh bread': 0.03032322559146951, 'green tea': 0.11329556814395202, 'turkey': 0.06597800733088971, 'mineral water': 0.23692102632455847, 'spaghetti': 0.18293902032655782, 'burgers': 0.08563812062645784, 'frozen smoothie': 0.04798400533155615, 'cookies': 0.07697434188603798, 'milk': 0.12695768077307565, 'champagne': 0.042652449183605466, 'salmon': 0.03898700433188937, 'pancakes': 0.07864045318227257, 'grated cheese': 0.055314895034988334, 'tomatoes': 0.06864378540486504, 'herb & pepper': 0.05031656114628457, 'chocolate': 0.1616127957347551, 'cake': 0.07697434188603798, 'french fries': 0.15428190603132289, 'olive oil': 0.06597800733088971, 'soup': 0.054315228257247584, 'chicken': 0.05664778407197601, 'ground beef & mineral water': 0.03698767077640786, 'ground beef & spaghetti': 0.03598800399866711, 'eggs & mineral water': 0.04798400533155615, 'eggs & spaghetti': 0.03265578140619793, 'eggs & french fries': 0.03432189270243252, 'frozen vegetables & mineral water': 0.03698767077640786, 'frozen vegetables & spaghetti': 0.030989670109963344, 'mineral water & spaghetti': 0.06064645118293902, 'mineral water & milk': 0.048317227590803064, 'mineral water & chocolate': 0.04765078307230923, 'spaghetti & milk': 0.03865378207264245, 'spaghetti & chocolate': 0.03732089303565478}\n"
     ]
    },
    {
     "name": "stderr",
     "output_type": "stream",
     "text": [
      "\n"
     ]
    }
   ],
   "source": [
    "get_ECLAT_indexes, get_ECLAT_supports = eclat_instance.fit(min_support=0.030,\n",
    "                                                           min_combination=1,\n",
    "                                                           max_combination=3,\n",
    "                                                           separator=' & ',\n",
    "                                                           verbose=True)\n",
    "\n",
    "print(get_ECLAT_supports)"
   ]
  },
  {
   "cell_type": "markdown",
   "metadata": {},
   "source": [
    "# Itemsets:\n",
    "    'spaghetti & frozen vegetables': 0.030989670109963344, \n",
    "    'spaghetti & mineral water': 0.06064645118293902, \n",
    "    'spaghetti & ground beef': 0.03598800399866711, \n",
    "    'spaghetti & chocolate': 0.03732089303565478, \n",
    "    'spaghetti & eggs': 0.03265578140619793, \n",
    "    'spaghetti & milk': 0.03865378207264245, \n",
    "    'frozen vegetables & mineral water': 0.03698767077640786, \n",
    "    'french fries & eggs': 0.03432189270243252, \n",
    "    'mineral water & ground beef': 0.03698767077640786, \n",
    "    'mineral water & chocolate': 0.04765078307230923, \n",
    "    'mineral water & eggs': 0.04798400533155615, \n",
    "    'mineral water & milk': 0.048317227590803064\n",
    "    \n"
   ]
  },
  {
   "cell_type": "code",
   "execution_count": 7,
   "metadata": {},
   "outputs": [
    {
     "name": "stderr",
     "output_type": "stream",
     "text": [
      "13it [00:00, 128.84it/s]"
     ]
    },
    {
     "name": "stdout",
     "output_type": "stream",
     "text": [
      "Combination 2 by 2\n"
     ]
    },
    {
     "name": "stderr",
     "output_type": "stream",
     "text": [
      "406it [00:02, 144.43it/s]"
     ]
    },
    {
     "name": "stdout",
     "output_type": "stream",
     "text": [
      "{'ground beef & mineral water': 0.03698767077640786, 'eggs & mineral water': 0.04798400533155615, 'frozen vegetables & mineral water': 0.03698767077640786, 'mineral water & spaghetti': 0.06064645118293902, 'mineral water & milk': 0.048317227590803064, 'mineral water & chocolate': 0.04765078307230923, 'spaghetti & milk': 0.03865378207264245, 'spaghetti & chocolate': 0.03732089303565478}\n"
     ]
    },
    {
     "name": "stderr",
     "output_type": "stream",
     "text": [
      "\n"
     ]
    },
    {
     "data": {
      "text/html": [
       "<div>\n",
       "<style scoped>\n",
       "    .dataframe tbody tr th:only-of-type {\n",
       "        vertical-align: middle;\n",
       "    }\n",
       "\n",
       "    .dataframe tbody tr th {\n",
       "        vertical-align: top;\n",
       "    }\n",
       "\n",
       "    .dataframe thead th {\n",
       "        text-align: right;\n",
       "    }\n",
       "</style>\n",
       "<table border=\"1\" class=\"dataframe\">\n",
       "  <thead>\n",
       "    <tr style=\"text-align: right;\">\n",
       "      <th></th>\n",
       "      <th>0</th>\n",
       "    </tr>\n",
       "  </thead>\n",
       "  <tbody>\n",
       "    <tr>\n",
       "      <th>ground beef &amp; mineral water</th>\n",
       "      <td>0.036988</td>\n",
       "    </tr>\n",
       "  </tbody>\n",
       "</table>\n",
       "</div>"
      ],
      "text/plain": [
       "                                    0\n",
       "ground beef & mineral water  0.036988"
      ]
     },
     "execution_count": 7,
     "metadata": {},
     "output_type": "execute_result"
    }
   ],
   "source": [
    "import pandas as pd\n",
    "get_ECLAT_indexes, get_ECLAT_supports = eclat_instance.fit(min_support=0.036,\n",
    "                                                           min_combination=2,\n",
    "                                                           max_combination=2,\n",
    "                                                           separator=' & ',\n",
    "                                                           verbose=True)\n",
    "print(get_ECLAT_supports)\n",
    "rank = pd.DataFrame(get_ECLAT_supports,index=[0])\n",
    "rank.transpose().head(1)"
   ]
  },
  {
   "cell_type": "markdown",
   "metadata": {},
   "source": [
    "# Itemsets:\n",
    "    'spaghetti & mineral water': 0.06064645118293902, \n",
    "    'spaghetti & ground beef': 0.03598800399866711, \n",
    "    'spaghetti & chocolate': 0.03732089303565478, \n",
    "    'spaghetti & milk': 0.03865378207264245, \n",
    "    'frozen vegetables & mineral water': 0.03698767077640786, \n",
    "    'french fries & eggs': 0.03432189270243252, \n",
    "    'mineral water & ground beef': 0.03698767077640786, \n",
    "    'mineral water & chocolate': 0.04765078307230923, \n",
    "    'mineral water & eggs': 0.04798400533155615, \n",
    "    'mineral water & milk': 0.048317227590803064"
   ]
  },
  {
   "cell_type": "code",
   "execution_count": 8,
   "metadata": {},
   "outputs": [
    {
     "name": "stderr",
     "output_type": "stream",
     "text": [
      "15it [00:00, 71.57it/s]"
     ]
    },
    {
     "name": "stdout",
     "output_type": "stream",
     "text": [
      "Combination 1 by 1\n"
     ]
    },
    {
     "name": "stderr",
     "output_type": "stream",
     "text": [
      "29it [00:00, 75.31it/s]\n",
      "14it [00:00, 131.92it/s]"
     ]
    },
    {
     "name": "stdout",
     "output_type": "stream",
     "text": [
      "Combination 2 by 2\n"
     ]
    },
    {
     "name": "stderr",
     "output_type": "stream",
     "text": [
      "406it [00:02, 140.50it/s]\n",
      "11it [00:00, 103.08it/s]"
     ]
    },
    {
     "name": "stdout",
     "output_type": "stream",
     "text": [
      "Combination 3 by 3\n"
     ]
    },
    {
     "name": "stderr",
     "output_type": "stream",
     "text": [
      "3654it [00:27, 134.95it/s]\n",
      "9it [00:00, 85.13it/s]"
     ]
    },
    {
     "name": "stdout",
     "output_type": "stream",
     "text": [
      "Combination 4 by 4\n"
     ]
    },
    {
     "name": "stderr",
     "output_type": "stream",
     "text": [
      "23751it [03:30, 112.77it/s]"
     ]
    },
    {
     "name": "stdout",
     "output_type": "stream",
     "text": [
      "{'escalope': 0.07064311896034656, 'whole wheat rice': 0.045318227257580806, 'low fat yogurt': 0.05664778407197601, 'cooking oil': 0.04798400533155615, 'shrimp': 0.0773075641452849, 'ground beef': 0.09363545484838387, 'eggs': 0.17727424191936023, 'honey': 0.03865378207264245, 'frozen vegetables': 0.09196934355214928, 'green tea': 0.11329556814395202, 'turkey': 0.06597800733088971, 'mineral water': 0.23692102632455847, 'spaghetti': 0.18293902032655782, 'burgers': 0.08563812062645784, 'frozen smoothie': 0.04798400533155615, 'cookies': 0.07697434188603798, 'milk': 0.12695768077307565, 'champagne': 0.042652449183605466, 'salmon': 0.03898700433188937, 'pancakes': 0.07864045318227257, 'grated cheese': 0.055314895034988334, 'tomatoes': 0.06864378540486504, 'herb & pepper': 0.05031656114628457, 'chocolate': 0.1616127957347551, 'cake': 0.07697434188603798, 'french fries': 0.15428190603132289, 'olive oil': 0.06597800733088971, 'soup': 0.054315228257247584, 'chicken': 0.05664778407197601, 'eggs & mineral water': 0.04798400533155615, 'mineral water & spaghetti': 0.06064645118293902, 'mineral water & milk': 0.048317227590803064, 'mineral water & chocolate': 0.04765078307230923, 'spaghetti & milk': 0.03865378207264245, 'spaghetti & chocolate': 0.03732089303565478}\n"
     ]
    },
    {
     "name": "stderr",
     "output_type": "stream",
     "text": [
      "\n"
     ]
    }
   ],
   "source": [
    "get_ECLAT_indexes, get_ECLAT_supports = eclat_instance.fit(min_support=0.037,\n",
    "                                                           min_combination=1,\n",
    "                                                           max_combination=4,\n",
    "                                                           separator=' & ',\n",
    "                                                           verbose=True)\n",
    "\n",
    "print(get_ECLAT_supports)"
   ]
  },
  {
   "cell_type": "markdown",
   "metadata": {},
   "source": [
    "# Itemsets:\n",
    "    'spaghetti & mineral water': 0.06064645118293902, \n",
    "    'spaghetti & chocolate': 0.03732089303565478, \n",
    "    'spaghetti & milk': 0.03865378207264245, \n",
    "    'mineral water & chocolate': 0.04765078307230923, \n",
    "    'mineral water & eggs': 0.04798400533155615, \n",
    "    'mineral water & milk': 0.048317227590803064"
   ]
  },
  {
   "cell_type": "markdown",
   "metadata": {},
   "source": [
    "Algorithm to distinguish seasonal product\n",
    "SeasonalDependency (topN, months)\n",
    "\n",
    "for all pi ← topN\n",
    "\n",
    "do\n",
    "\n",
    "if si > = MPV\n",
    "\n",
    "then\n",
    "\n",
    "if MR (pi, month) < TR\n",
    "\n",
    "then\n",
    "\n",
    "RemovefromList (topN, pi)\n"
   ]
  },
  {
   "cell_type": "code",
   "execution_count": 9,
   "metadata": {},
   "outputs": [],
   "source": [
    "import numpy as np\n",
    "import matplotlib.pyplot as plt\n",
    "import pandas as pd"
   ]
  },
  {
   "cell_type": "code",
   "execution_count": 10,
   "metadata": {},
   "outputs": [],
   "source": [
    "# Data Loading\n",
    "dataset = pd.read_csv('Market_Basket_Optimisation.csv', header = None)\n",
    "\n",
    "# Adding all customers into a list of lists\n",
    "transactions = []\n",
    "for i in range(0, 7501):\n",
    "    transactions.append([str(dataset.values[i,j]) for j in range(0, 20)])"
   ]
  },
  {
   "cell_type": "code",
   "execution_count": 11,
   "metadata": {},
   "outputs": [
    {
     "data": {
      "text/html": [
       "<div>\n",
       "<style scoped>\n",
       "    .dataframe tbody tr th:only-of-type {\n",
       "        vertical-align: middle;\n",
       "    }\n",
       "\n",
       "    .dataframe tbody tr th {\n",
       "        vertical-align: top;\n",
       "    }\n",
       "\n",
       "    .dataframe thead th {\n",
       "        text-align: right;\n",
       "    }\n",
       "</style>\n",
       "<table border=\"1\" class=\"dataframe\">\n",
       "  <thead>\n",
       "    <tr style=\"text-align: right;\">\n",
       "      <th></th>\n",
       "      <th>0</th>\n",
       "      <th>1</th>\n",
       "      <th>2</th>\n",
       "    </tr>\n",
       "  </thead>\n",
       "  <tbody>\n",
       "    <tr>\n",
       "      <th>0</th>\n",
       "      <td>milk frother</td>\n",
       "      <td>raincoat</td>\n",
       "      <td>milk frother</td>\n",
       "    </tr>\n",
       "    <tr>\n",
       "      <th>1</th>\n",
       "      <td>crocs</td>\n",
       "      <td>french press</td>\n",
       "      <td>french press</td>\n",
       "    </tr>\n",
       "    <tr>\n",
       "      <th>2</th>\n",
       "      <td>generator</td>\n",
       "      <td>gumboots</td>\n",
       "      <td>water proof phone dockets</td>\n",
       "    </tr>\n",
       "    <tr>\n",
       "      <th>3</th>\n",
       "      <td>clothes dryer</td>\n",
       "      <td>windsheater</td>\n",
       "      <td>umberalla</td>\n",
       "    </tr>\n",
       "    <tr>\n",
       "      <th>4</th>\n",
       "      <td>mosquito repellent</td>\n",
       "      <td>crocs</td>\n",
       "      <td>water proof phone dockets</td>\n",
       "    </tr>\n",
       "    <tr>\n",
       "      <th>...</th>\n",
       "      <td>...</td>\n",
       "      <td>...</td>\n",
       "      <td>...</td>\n",
       "    </tr>\n",
       "    <tr>\n",
       "      <th>195</th>\n",
       "      <td>mosquito repellent</td>\n",
       "      <td>crocs</td>\n",
       "      <td>gumboots</td>\n",
       "    </tr>\n",
       "    <tr>\n",
       "      <th>196</th>\n",
       "      <td>raincoat</td>\n",
       "      <td>umberalla</td>\n",
       "      <td>generator</td>\n",
       "    </tr>\n",
       "    <tr>\n",
       "      <th>197</th>\n",
       "      <td>coffee maker</td>\n",
       "      <td>gumboots</td>\n",
       "      <td>water proof phone dockets</td>\n",
       "    </tr>\n",
       "    <tr>\n",
       "      <th>198</th>\n",
       "      <td>frother</td>\n",
       "      <td>frother</td>\n",
       "      <td>gumboots</td>\n",
       "    </tr>\n",
       "    <tr>\n",
       "      <th>199</th>\n",
       "      <td>bag cover</td>\n",
       "      <td>generator</td>\n",
       "      <td>umberalla</td>\n",
       "    </tr>\n",
       "  </tbody>\n",
       "</table>\n",
       "<p>200 rows × 3 columns</p>\n",
       "</div>"
      ],
      "text/plain": [
       "                      0             1                          2\n",
       "0          milk frother      raincoat               milk frother\n",
       "1                 crocs  french press               french press\n",
       "2             generator      gumboots  water proof phone dockets\n",
       "3         clothes dryer   windsheater                  umberalla\n",
       "4    mosquito repellent         crocs  water proof phone dockets\n",
       "..                  ...           ...                        ...\n",
       "195  mosquito repellent         crocs                   gumboots\n",
       "196            raincoat     umberalla                  generator\n",
       "197        coffee maker      gumboots  water proof phone dockets\n",
       "198             frother       frother                   gumboots\n",
       "199           bag cover     generator                  umberalla\n",
       "\n",
       "[200 rows x 3 columns]"
      ]
     },
     "execution_count": 11,
     "metadata": {},
     "output_type": "execute_result"
    }
   ],
   "source": [
    "import json\n",
    "file = 'test.json'\n",
    "with open(file) as rental_file:\n",
    "    dict_test = json.load(rental_file)\n",
    "\n",
    "# converting json dataset from dictionary to dataframe\n",
    "rented = pd.DataFrame.from_dict(dict_test,orient=\"index\")\n",
    "rented.reset_index(level=0, inplace=True)\n",
    "new_rented = rented.drop(['index'], axis = 1)\n",
    "new_rented "
   ]
  },
  {
   "cell_type": "code",
   "execution_count": 12,
   "metadata": {},
   "outputs": [
    {
     "name": "stderr",
     "output_type": "stream",
     "text": [
      "100%|█████████████████████████████████████████████████████████████████████████████████| 15/15 [00:00<00:00, 629.40it/s]\n",
      "100%|██████████████████████████████████████████████████████████████████████████████████████████| 15/15 [00:00<?, ?it/s]\n",
      "100%|████████████████████████████████████████████████████████████████████████████████| 15/15 [00:00<00:00, 1664.45it/s]\n"
     ]
    },
    {
     "data": {
      "text/plain": [
       "['water proof phone dockets & umberalla',\n",
       " 'water proof phone dockets & heater',\n",
       " 'umberalla & clothes dryer',\n",
       " 'mosquito repellent & crocs',\n",
       " 'mosquito repellent & raincoat',\n",
       " 'coffee maker & clothes dryer',\n",
       " 'bag cover & clothes dryer']"
      ]
     },
     "execution_count": 12,
     "metadata": {},
     "output_type": "execute_result"
    }
   ],
   "source": [
    "from pyECLAT import ECLAT\n",
    "eclat_instance = ECLAT(new_rented, verbose=True)\n",
    "get_ECLAT_indexes, get_ECLAT_supports = eclat_instance.fit(min_support=0.042,\n",
    "                                                           min_combination=2,\n",
    "                                                           max_combination=4,\n",
    "                                                           separator=' & ',\n",
    "                                                           verbose=False)\n",
    "rank = pd.DataFrame(get_ECLAT_supports, index=[0])\n",
    "final = rank.head(1)\n",
    "arr = final.columns.values.tolist()\n",
    "arr"
   ]
  },
  {
   "cell_type": "code",
   "execution_count": null,
   "metadata": {},
   "outputs": [],
   "source": []
  },
  {
   "cell_type": "code",
   "execution_count": null,
   "metadata": {},
   "outputs": [],
   "source": []
  }
 ],
 "metadata": {
  "kernelspec": {
   "display_name": "Python 3",
   "language": "python",
   "name": "python3"
  },
  "language_info": {
   "codemirror_mode": {
    "name": "ipython",
    "version": 3
   },
   "file_extension": ".py",
   "mimetype": "text/x-python",
   "name": "python",
   "nbconvert_exporter": "python",
   "pygments_lexer": "ipython3",
   "version": "3.7.6"
  }
 },
 "nbformat": 4,
 "nbformat_minor": 4
}
